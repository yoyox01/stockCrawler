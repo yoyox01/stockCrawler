{
 "cells": [
  {
   "cell_type": "code",
   "execution_count": 1,
   "metadata": {},
   "outputs": [],
   "source": [
    "import requests\n",
    "import json\n",
    "import csv\n",
    "from bs4 import BeautifulSoup\n",
    "headers = {'User-Agent': 'Mozilla/5.0 (Windows NT 10.0; Win64; x64) AppleWebKit/537.36 (KHTML, like Gecko) Chrome/65.0.3325.181 Safari/537.36'}"
   ]
  },
  {
   "cell_type": "code",
   "execution_count": 2,
   "metadata": {},
   "outputs": [],
   "source": [
    "def Crawler(stockID):\n",
    "    url = 'https://goodinfo.tw/StockInfo/StockDividendPolicy.asp?STOCK_ID='+stockID\n",
    "    result = requests.get(url, headers=headers)\n",
    "    result.encoding = 'utf8'\n",
    "    #print(\"encoding: %s\" % result.encoding)\n",
    "    #print(\"content: \\n%s\" % result.text)\n",
    "    soup = BeautifulSoup(result.text,'html.parser')\n",
    "    table_tags = soup.select('nobr a.link_blue')\n",
    "    info_tags = soup.select('table.solid_1_padding_4_0_tbl tr td')\n",
    "    \n",
    "    return table_tags, info_tags\n",
    "\n",
    "def StoreInfo(years_of_data, info_tags):\n",
    "    del info_tags[0:41]\n",
    "    Stock_info = []\n",
    "    for i in range(0,int(years_of_data)):\n",
    "        tmp = []\n",
    "        tmp.append(stock_name)\n",
    "        tmp.append(info_tags[0+26*i].text)\n",
    "        tmp.append(info_tags[3+26*i].text)\n",
    "        tmp.append(info_tags[6+26*i].text)\n",
    "        tmp.append(info_tags[7+26*i].text)\n",
    "        if i==0:\n",
    "            tmp.append(None)\n",
    "            tmp.append(None)\n",
    "        else:\n",
    "            tmp.append(info_tags[22+26*(i-1)].text)\n",
    "            tmp.append(info_tags[25+26*(i-1)].text)\n",
    "        tmp.append(info_tags[15+26*i].text)\n",
    "        tmp.append(info_tags[16+26*i].text)\n",
    "        tmp.append(info_tags[17+26*i].text)\n",
    "        Stock_info.append(tmp)\n",
    "    \n",
    "    return Stock_info\n",
    "\n",
    "def WriteJson(filename, Stock_info):\n",
    "    with open(filename, 'w') as outfile:\n",
    "        json.dump(Stock_info, outfile)\n",
    "    \n",
    "def ReadJson(filename):\n",
    "    with open(filename) as infile:  \n",
    "        data = json.load(infile)\n",
    "        for p in data:\n",
    "            print(p)\n",
    "\n",
    "def WriteCsv(filename, Stock_header, Stock_info):\n",
    "    outfile = open(filename,'a', newline='')\n",
    "    writeCSV = csv.writer(outfile)\n",
    "    writeCSV.writerow(Stock_header)\n",
    "    writeCSV.writerows(Stock_info)\n",
    "    writeCSV.writerow([])\n",
    "    outfile.close()\n",
    "    print('The data above have been written into', filename,'successfully!')"
   ]
  },
  {
   "cell_type": "code",
   "execution_count": 3,
   "metadata": {},
   "outputs": [
    {
     "name": "stdout",
     "output_type": "stream",
     "text": [
      "Stock ID :2880\n",
      "Years of data :10\n",
      "2880 華南金\n"
     ]
    }
   ],
   "source": [
    "###### key in the stock ID and years  of data you want to crawl\n",
    "stockID = input(\"Stock ID :\")\n",
    "years_of_data = input(\"Years of data :\")\n",
    "\n",
    "###### start crawling, and store the results in lists\n",
    "table_tags, info_tags = Crawler(stockID)\n",
    "stock_name = table_tags[4].text.replace(u'\\xa0', u' ')\n",
    "print(stock_name)"
   ]
  },
  {
   "cell_type": "code",
   "execution_count": 4,
   "metadata": {},
   "outputs": [],
   "source": [
    "###### store the filtered informations in list of lists\n",
    "Stock_header = ['年度','現金股利','股票股利','每股盈餘','EPS','盈配率','最高','最低','平均','備註']\n",
    "Stock_header.insert( 0, stock_name)\n",
    "Stock_info = StoreInfo(years_of_data, info_tags)"
   ]
  },
  {
   "cell_type": "code",
   "execution_count": 5,
   "metadata": {
    "scrolled": true
   },
   "outputs": [
    {
     "name": "stdout",
     "output_type": "stream",
     "text": [
      "['2880 華南金', '2018', '0.5', '0.45', '0.95', None, None, '18.8', '16.55', '17.7']\n",
      "['2880 華南金', '2017', '0.7', '0.5', '1.2', '1.09', '87.2', '18.4', '16.15', '16.9']\n",
      "['2880 華南金', '2016', '0.63', '0.62', '1.25', '1.34', '89.6', '17.85', '13.9', '16']\n",
      "['2880 華南金', '2015', '0.62', '0.62', '1.24', '1.42', '88', '19.45', '14.4', '17']\n",
      "['2880 華南金', '2014', '0.7', '0.3', '1', '1.41', '87.9', '19.6', '16.75', '17.8']\n",
      "['2880 華南金', '2013', '0.5', '0.5', '1', '1.11', '90.1', '17.9', '15.95', '17.1']\n",
      "['2880 華南金', '2012', '0.5', '0.5', '1', '1.03', '97.1', '17.8', '15', '16.4']\n",
      "['2880 華南金', '2011', '0.3', '0.6', '0.9', '1.22', '82', '24.8', '16', '20.6']\n",
      "['2880 華南金', '2010', '0.2', '0.55', '0.75', '0.92', '97.8', '24.8', '16.9', '19.6']\n",
      "['2880 華南金', '2009', '0.7', '0.3', '1', '0.71', '106', '24.4', '15.25', '19.1']\n",
      "Do you want to save it? (y/n)y\n",
      "The data above have been written into stocks_info.csv successfully!\n"
     ]
    }
   ],
   "source": [
    "###### write json file\n",
    "WriteJson('stock_data.json', Stock_info)\n",
    "\n",
    "###### read json file\n",
    "ReadJson('stock_data.json')\n",
    "\n",
    "###### write csv file\n",
    "save = input('Do you want to save it? (y/n)')\n",
    "if (save=='y') or (save=='Y'):\n",
    "    WriteCsv('stocks_info.csv', Stock_header, Stock_info)\n",
    "else:\n",
    "    print('The data above is not saved.')"
   ]
  }
 ],
 "metadata": {
  "kernelspec": {
   "display_name": "Python 3",
   "language": "python",
   "name": "python3"
  },
  "language_info": {
   "codemirror_mode": {
    "name": "ipython",
    "version": 3
   },
   "file_extension": ".py",
   "mimetype": "text/x-python",
   "name": "python",
   "nbconvert_exporter": "python",
   "pygments_lexer": "ipython3",
   "version": "3.6.5"
  }
 },
 "nbformat": 4,
 "nbformat_minor": 2
}
